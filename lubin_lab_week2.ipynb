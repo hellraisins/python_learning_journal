{
 "cells": [
  {
   "cell_type": "markdown",
   "metadata": {},
   "source": [
    "Lab: Week 2: Conversion Tools"
   ]
  },
  {
   "cell_type": "markdown",
   "metadata": {},
   "source": [
    "Kilometers to Miles conversion:"
   ]
  },
  {
   "cell_type": "code",
   "execution_count": 1,
   "metadata": {},
   "outputs": [],
   "source": [
    "# This part defines kilometers and asks the user to enter the distance in kilometers\n",
    "kilometers = float(input(\"Please enter the distance in kilometers: \"))\n",
    "\n",
    "# This part prints the result!\n",
    "print(f\"Wowee! {kilometers} kilometers is equal to {kilometers * 0.621371} miles!\")"
   ]
  },
  {
   "cell_type": "markdown",
   "metadata": {},
   "source": [
    "Celsius to Fahrenheit conversion:"
   ]
  },
  {
   "cell_type": "code",
   "execution_count": null,
   "metadata": {},
   "outputs": [],
   "source": [
    "# Define celsius, and ask for user to input a temperature in Celsius\n",
    "celsius = float(input(\"Please enter the temperature in Celsius: \"))\n",
    "\n",
    "# This is the formula to make the conversion from Celsius to Fahrenheit\n",
    "fahrenheit = (celsius * 9/5) + 32\n",
    "\n",
    "# Print the result\n",
    "print(f\"Daaaaaang! {celsius} degrees Celsius is equal to {fahrenheit} degrees Fahrenheit!\")"
   ]
  },
  {
   "cell_type": "markdown",
   "metadata": {},
   "source": [
    "Binary to Decimal conversion:"
   ]
  },
  {
   "cell_type": "code",
   "execution_count": null,
   "metadata": {},
   "outputs": [],
   "source": [
    "# Define binary and get your number via user input.\n",
    "binary = input(\"Please enter a binary number: \")\n",
    "\n",
    "# Define decimal\n",
    "decimal = int(binary, 2)\n",
    "\n",
    "# Print the result!\n",
    "print(f\"Heyo, the decimal value of {binary} is {decimal}!\")"
   ]
  }
 ],
 "metadata": {
  "kernelspec": {
   "display_name": "Python 3",
   "language": "python",
   "name": "python3"
  },
  "language_info": {
   "codemirror_mode": {
    "name": "ipython",
    "version": 3
   },
   "file_extension": ".py",
   "mimetype": "text/x-python",
   "name": "python",
   "nbconvert_exporter": "python",
   "pygments_lexer": "ipython3",
   "version": "3.12.5"
  }
 },
 "nbformat": 4,
 "nbformat_minor": 2
}
